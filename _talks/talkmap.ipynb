{
 "cells": [
  {
   "cell_type": "markdown",
   "metadata": {},
   "source": [
    "# Leaflet cluster map of talk locations\n",
    "\n",
    "Run this from the _talks/ directory, which contains .md files of all your talks. This scrapes the location YAML field from each .md file, geolocates it with geopy/Nominatim, and uses the getorg library to output data, HTML, and Javascript for a standalone cluster map."
   ]
  },
  {
   "cell_type": "code",
   "execution_count": 1,
   "metadata": {
    "collapsed": false
   },
   "outputs": [
    {
     "name": "stdout",
     "output_type": "stream",
     "text": [
      "Collecting getorg\n",
      "  Downloading getorg-0.3.1-py2.py3-none-any.whl (39 kB)\n",
      "Collecting geopy\n",
      "  Downloading geopy-2.4.1-py3-none-any.whl (125 kB)\n",
      "     -------------------------------------- 125.4/125.4 kB 7.7 MB/s eta 0:00:00\n",
      "Collecting pygithub\n",
      "  Downloading PyGithub-2.3.0-py3-none-any.whl (354 kB)\n",
      "     ------------------------------------- 354.4/354.4 kB 10.8 MB/s eta 0:00:00\n",
      "Collecting retrying\n",
      "  Downloading retrying-1.3.4-py3-none-any.whl (11 kB)\n",
      "Collecting geographiclib<3,>=1.52\n",
      "  Downloading geographiclib-2.0-py3-none-any.whl (40 kB)\n",
      "     ---------------------------------------- 40.3/40.3 kB ? eta 0:00:00\n",
      "Collecting pynacl>=1.4.0\n",
      "  Downloading PyNaCl-1.5.0-cp36-abi3-win_amd64.whl (212 kB)\n",
      "     ------------------------------------- 212.1/212.1 kB 13.5 MB/s eta 0:00:00\n",
      "Collecting requests>=2.14.0\n",
      "  Downloading requests-2.32.3-py3-none-any.whl (64 kB)\n",
      "     ---------------------------------------- 64.9/64.9 kB ? eta 0:00:00\n",
      "Collecting pyjwt[crypto]>=2.4.0\n",
      "  Downloading PyJWT-2.8.0-py3-none-any.whl (22 kB)\n",
      "Requirement already satisfied: typing-extensions>=4.0.0 in c:\\users\\jiayewu\\appdata\\roaming\\python\\python311\\site-packages (from pygithub->getorg) (4.12.2)\n",
      "Collecting urllib3>=1.26.0\n",
      "  Downloading urllib3-2.2.1-py3-none-any.whl (121 kB)\n",
      "     -------------------------------------- 121.1/121.1 kB 7.4 MB/s eta 0:00:00\n",
      "Collecting Deprecated\n",
      "  Downloading Deprecated-1.2.14-py2.py3-none-any.whl (9.6 kB)\n",
      "Requirement already satisfied: six>=1.7.0 in c:\\users\\jiayewu\\appdata\\roaming\\python\\python311\\site-packages (from retrying->getorg) (1.16.0)\n",
      "Collecting cryptography>=3.4.0\n",
      "  Downloading cryptography-42.0.8-cp39-abi3-win_amd64.whl (2.9 MB)\n",
      "     ---------------------------------------- 2.9/2.9 MB 9.7 MB/s eta 0:00:00\n",
      "Collecting cffi>=1.4.1\n",
      "  Downloading cffi-1.16.0-cp311-cp311-win_amd64.whl (181 kB)\n",
      "     ------------------------------------- 181.5/181.5 kB 10.7 MB/s eta 0:00:00\n",
      "Collecting charset-normalizer<4,>=2\n",
      "  Downloading charset_normalizer-3.3.2-cp311-cp311-win_amd64.whl (99 kB)\n",
      "     ---------------------------------------- 99.9/99.9 kB ? eta 0:00:00\n",
      "Collecting idna<4,>=2.5\n",
      "  Downloading idna-3.7-py3-none-any.whl (66 kB)\n",
      "     ---------------------------------------- 66.8/66.8 kB 3.5 MB/s eta 0:00:00\n",
      "Collecting certifi>=2017.4.17\n",
      "  Downloading certifi-2024.6.2-py3-none-any.whl (164 kB)\n",
      "     ------------------------------------- 164.4/164.4 kB 10.3 MB/s eta 0:00:00\n",
      "Collecting wrapt<2,>=1.10\n",
      "  Downloading wrapt-1.16.0-cp311-cp311-win_amd64.whl (37 kB)\n",
      "Collecting pycparser\n",
      "  Downloading pycparser-2.22-py3-none-any.whl (117 kB)\n",
      "     ---------------------------------------- 117.6/117.6 kB ? eta 0:00:00\n",
      "Installing collected packages: wrapt, urllib3, retrying, pyjwt, pycparser, idna, geographiclib, charset-normalizer, certifi, requests, geopy, Deprecated, cffi, pynacl, cryptography, pygithub, getorg\n",
      "Successfully installed Deprecated-1.2.14 certifi-2024.6.2 cffi-1.16.0 charset-normalizer-3.3.2 cryptography-42.0.8 geographiclib-2.0 geopy-2.4.1 getorg-0.3.1 idna-3.7 pycparser-2.22 pygithub-2.3.0 pyjwt-2.8.0 pynacl-1.5.0 requests-2.32.3 retrying-1.3.4 urllib3-2.2.1 wrapt-1.16.0\n"
     ]
    },
    {
     "name": "stderr",
     "output_type": "stream",
     "text": [
      "\n",
      "[notice] A new release of pip available: 22.3 -> 24.0\n",
      "[notice] To update, run: python.exe -m pip install --upgrade pip\n"
     ]
    },
    {
     "name": "stdout",
     "output_type": "stream",
     "text": [
      "Iywidgets and ipyleaflet support disabled. You must be in a Jupyter notebook to use this feature.\n",
      "Error raised:\n",
      "No module named 'ipywidgets'\n",
      "Check that you have enabled ipyleaflet in Jupyter with:\n",
      "    jupyter nbextension enable --py ipyleaflet\n"
     ]
    }
   ],
   "source": [
    "!pip install getorg --upgrade\n",
    "import glob\n",
    "import getorg\n",
    "from geopy import Nominatim"
   ]
  },
  {
   "cell_type": "code",
   "execution_count": 2,
   "metadata": {
    "collapsed": false
   },
   "outputs": [],
   "source": [
    "g = glob.glob(\"*.md\")"
   ]
  },
  {
   "cell_type": "code",
   "execution_count": 3,
   "metadata": {
    "collapsed": true
   },
   "outputs": [],
   "source": [
    "geocoder = Nominatim(user_agent=\"my-website\")\n",
    "location_dict = {}\n",
    "location = \"\"\n",
    "permalink = \"\"\n",
    "title = \"\""
   ]
  },
  {
   "cell_type": "code",
   "execution_count": 4,
   "metadata": {
    "collapsed": false
   },
   "outputs": [
    {
     "name": "stdout",
     "output_type": "stream",
     "text": [
      "Guangzhou, China \n",
      " 广州市, 广东省, 中国\n",
      "Guangzhou, China \n",
      " 广州市, 广东省, 中国\n",
      "Sydney, NSW, Australia \n",
      " Sydney, Council of the City of Sydney, New South Wales, Australia\n",
      "Macau, China \n",
      " 澳門 Macau, 中国\n",
      "San Jose, California, United States \n",
      " San Jose, Santa Clara County, California, United States\n",
      "Zurich, Switzerland \n",
      " Zürich, Bezirk Zürich, Zürich, Schweiz/Suisse/Svizzera/Svizra\n",
      "Shanghai, China \n",
      " 上海市, 黄浦区, 上海市, 200001, 中国\n",
      "Chengdu, Sichuan, China \n",
      " 成都, 站西路, 荷花池街道, 金牛区, 成都市, 高新区（西区）, 四川省, 610031, 中国\n",
      "Shenzhen, China \n",
      " 深圳市, 广东省, 中国\n"
     ]
    }
   ],
   "source": [
    "\n",
    "for file in g:\n",
    "    with open(file, 'r') as f:\n",
    "        lines = f.read()\n",
    "        if lines.find('location: \"') > 1:\n",
    "            loc_start = lines.find('location: \"') + 11\n",
    "            lines_trim = lines[loc_start:]\n",
    "            loc_end = lines_trim.find('\"')\n",
    "            location = lines_trim[:loc_end]\n",
    "                            \n",
    "           \n",
    "        location_dict[location] = geocoder.geocode(location)\n",
    "        print(location, \"\\n\", location_dict[location])\n"
   ]
  },
  {
   "cell_type": "code",
   "execution_count": 5,
   "metadata": {
    "collapsed": false
   },
   "outputs": [
    {
     "data": {
      "text/plain": [
       "'Written map to ../talkmap/'"
      ]
     },
     "execution_count": 5,
     "metadata": {},
     "output_type": "execute_result"
    }
   ],
   "source": [
    "m = getorg.orgmap.create_map_obj()\n",
    "getorg.orgmap.output_html_cluster_map(location_dict, folder_name=\"../talkmap\", hashed_usernames=False)"
   ]
  },
  {
   "cell_type": "code",
   "execution_count": null,
   "metadata": {
    "collapsed": true
   },
   "outputs": [],
   "source": []
  }
 ],
 "metadata": {
  "anaconda-cloud": {},
  "kernelspec": {
   "display_name": "Python 3",
   "language": "python",
   "name": "python3"
  },
  "language_info": {
   "codemirror_mode": {
    "name": "ipython",
    "version": 3
   },
   "file_extension": ".py",
   "mimetype": "text/x-python",
   "name": "python",
   "nbconvert_exporter": "python",
   "pygments_lexer": "ipython3",
   "version": "3.11.0"
  }
 },
 "nbformat": 4,
 "nbformat_minor": 0
}
